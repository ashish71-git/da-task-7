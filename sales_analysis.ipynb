# Cell 1: Import libraries
import sqlite3
import pandas as pd
import matplotlib.pyplot as plt
%matplotlib inline

# Cell 2: Database setup
conn = sqlite3.connect('sales_data.db')
cursor = conn.cursor()

cursor.execute('''
CREATE TABLE IF NOT EXISTS sales (
    id INTEGER PRIMARY KEY,
    product TEXT NOT NULL,
    quantity INTEGER NOT NULL,
    price REAL NOT NULL,
    sale_date TEXT
)
''')

# Insert sample data if empty
cursor.execute("SELECT COUNT(*) FROM sales")
if cursor.fetchone()[0] == 0:
    sample_data = [
        ('Smartphone', 8, 699.99, '2023-02-01'),
        ('Tablet', 5, 349.99, '2023-02-01'),
        ('Smartwatch', 12, 199.99, '2023-02-02'),
        ('Smartphone', 3, 699.99, '2023-02-03')
    ]
    cursor.executemany("INSERT INTO sales (product, quantity, price, sale_date) VALUES (?, ?, ?, ?)", sample_data)
    conn.commit()

# Cell 3: Run queries
product_query = """
SELECT 
    product,
    SUM(quantity) AS total_sold,
    SUM(quantity * price) AS total_revenue
FROM sales
GROUP BY product
"""

df = pd.read_sql_query(product_query, conn)
display(df)

# Cell 4: Visualization
df.plot(kind='bar', x='product', y='total_revenue', legend=False)
plt.title('Product Revenue Comparison')
plt.ylabel('Revenue ($)')
plt.xlabel('Product')
plt.tight_layout()
plt.savefig('sales_chart.png')
plt.show()

# Cell 5: Close connection
conn.close()
